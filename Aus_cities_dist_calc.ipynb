{
 "cells": [
  {
   "cell_type": "code",
   "execution_count": 36,
   "id": "5dfca8ad-478d-405b-ba0f-dfa6cd8b8aa0",
   "metadata": {},
   "outputs": [],
   "source": [
    "import pandas as pd\n",
    "import geopy as gp\n",
    "from geopy.distance import great_circle as gc"
   ]
  },
  {
   "cell_type": "code",
   "execution_count": 37,
   "id": "c55fa2f4-9bae-4a15-b67c-a18084e02a76",
   "metadata": {},
   "outputs": [],
   "source": [
    "#read in googlesheet file with all Australian cities \n",
    "filepath = \"https://docs.google.com/spreadsheets/d/1H1O18UQpdVyK5IJuTdQfEUf33SywMg4_KwywGBNfKGI/export?format=csv&gid=0\""
   ]
  },
  {
   "cell_type": "code",
   "execution_count": 38,
   "id": "d7264020-9e34-46d2-9d10-1734d6d60d28",
   "metadata": {},
   "outputs": [],
   "source": [
    "#put googlesheet into a dataframe\n",
    "df = pd.read_csv(filepath)"
   ]
  },
  {
   "cell_type": "code",
   "execution_count": 39,
   "id": "5e6831bc-e2ae-4f5c-940b-8a370b5d22f1",
   "metadata": {},
   "outputs": [],
   "source": [
    "#clean up the file with only columns we need"
   ]
  },
  {
   "cell_type": "code",
   "execution_count": 40,
   "id": "5db44387-da99-4a24-a12e-5ae96ef1e92e",
   "metadata": {},
   "outputs": [],
   "source": [
    "#clean up the file with only columns we need + rename headers \n",
    "df=df.drop(columns=[\"capital\",\"iso2\",\"country\"])\n",
    "df=df.rename(columns = {'admin_name':'state'})\n",
    "# convert lat from negative to positive\n",
    "df['lat'] = df['lat'] * -1\n"
   ]
  },
  {
   "cell_type": "code",
   "execution_count": 41,
   "id": "8ca9b131-b6f6-44b9-b1b2-32cc567cac87",
   "metadata": {},
   "outputs": [],
   "source": [
    "#making a new column with the latlon of each city in a tuple\n",
    "df['latlng_tup'] = list(zip(df['lat'], df['lng']))\n"
   ]
  },
  {
   "cell_type": "code",
   "execution_count": 42,
   "id": "ccdbeffb-6c16-492d-b175-e99bf501431a",
   "metadata": {},
   "outputs": [],
   "source": [
    "#Then conevrt the latlon tuples into a list so we can loop over with each city \n",
    "latlon = df['latlng_tup'].tolist()\n",
    "\n"
   ]
  },
  {
   "cell_type": "code",
   "execution_count": 43,
   "id": "82dacbf1-8cc9-446f-84b8-8e710b94f627",
   "metadata": {},
   "outputs": [],
   "source": [
    " # Cooridinates of Nuclear sites \n",
    "Tarong = (26.7713, 151.8665)\n",
    "Collie= (33.3631, 116.1556)\n",
    "Callide= (24.3333, 150.6167)\n",
    "Liddell= (32.3833, 150.9833)\n",
    "MtPiper= (33.3500, 150.0167)\n",
    "LoyYang= (38.2333, 146.5833)\n",
    "PortAugusta= (32.4900, 137.7700)\n",
    "  \n",
    " "
   ]
  },
  {
   "cell_type": "code",
   "execution_count": 44,
   "id": "5ea0bbec-7551-4afd-b54c-673ccfa65f70",
   "metadata": {},
   "outputs": [],
   "source": [
    "#Create a list with the distance from the city to the nuclear site\n",
    "Taronglist = []\n",
    "Collielist=  []\n",
    "Callidelist=  []\n",
    "Liddellist=  []\n",
    "MtPiperlist=  []\n",
    "LoyYanglist=  []\n",
    "PortAugustalist=  []\n",
    "\n",
    "# take citie cooridantes, and calculate the distance to the nuclear site using geopy.distance\n",
    "for tup in latlon:\n",
    "    r1 = round((gc(Tarong, tup).km))\n",
    "    r2 = round((gc(Collie, tup).km))\n",
    "    r3 = round((gc(Callide, tup).km))\n",
    "    r4 = round((gc(Liddell, tup).km))\n",
    "    r5 = round((gc(MtPiper, tup).km))\n",
    "    r6 = round((gc(LoyYang, tup).km))\n",
    "    r7 = round((gc(PortAugusta, tup).km))\n",
    "    \n",
    "    # add the distance (city to nuclear site) to its relevant list\n",
    "    Taronglist.append(r1)\n",
    "    Collielist.append(r2)\n",
    "    Callidelist.append(r3)\n",
    "    Liddellist.append(r4)\n",
    "    MtPiperlist.append(r5)\n",
    "    LoyYanglist.append(r6)\n",
    "    PortAugustalist.append(r7)"
   ]
  },
  {
   "cell_type": "code",
   "execution_count": 45,
   "id": "b063f8c8-470c-4bb4-9f66-fef6fc2362e6",
   "metadata": {},
   "outputs": [],
   "source": [
    "# put the nuclear site lists into a another list and merge them with a list of headers--- add columns back into dataframe.\n",
    "lists_to_add = [Taronglist,Collielist,Callidelist, Liddellist,MtPiperlist,LoyYanglist,PortAugustalist]\n",
    "column_names = ['Tarong', 'Collie', 'Callide','Liddel', 'MtPiper', 'LoyYang', 'PortAugusta']\n",
    "\n",
    "for col_name, sublist in zip(column_names, lists_to_add):\n",
    "    df[col_name] = sublist"
   ]
  },
  {
   "cell_type": "code",
   "execution_count": 46,
   "id": "171f7cf2-892c-46a3-9460-a6827d8758bc",
   "metadata": {},
   "outputs": [
    {
     "data": {
      "text/html": [
       "<div>\n",
       "<style scoped>\n",
       "    .dataframe tbody tr th:only-of-type {\n",
       "        vertical-align: middle;\n",
       "    }\n",
       "\n",
       "    .dataframe tbody tr th {\n",
       "        vertical-align: top;\n",
       "    }\n",
       "\n",
       "    .dataframe thead th {\n",
       "        text-align: right;\n",
       "    }\n",
       "</style>\n",
       "<table border=\"1\" class=\"dataframe\">\n",
       "  <thead>\n",
       "    <tr style=\"text-align: right;\">\n",
       "      <th></th>\n",
       "      <th>city</th>\n",
       "      <th>lat</th>\n",
       "      <th>lng</th>\n",
       "      <th>state</th>\n",
       "      <th>population</th>\n",
       "      <th>latlng_tup</th>\n",
       "      <th>Tarong</th>\n",
       "      <th>Collie</th>\n",
       "      <th>Callide</th>\n",
       "      <th>Liddel</th>\n",
       "      <th>MtPiper</th>\n",
       "      <th>LoyYang</th>\n",
       "      <th>PortAugusta</th>\n",
       "    </tr>\n",
       "  </thead>\n",
       "  <tbody>\n",
       "    <tr>\n",
       "      <th>0</th>\n",
       "      <td>Sydney</td>\n",
       "      <td>33.8650</td>\n",
       "      <td>151.2094</td>\n",
       "      <td>New South Wales</td>\n",
       "      <td>5312163</td>\n",
       "      <td>(33.865, 151.2094)</td>\n",
       "      <td>791</td>\n",
       "      <td>3231</td>\n",
       "      <td>1061</td>\n",
       "      <td>166</td>\n",
       "      <td>124</td>\n",
       "      <td>639</td>\n",
       "      <td>1259</td>\n",
       "    </tr>\n",
       "    <tr>\n",
       "      <th>1</th>\n",
       "      <td>Melbourne</td>\n",
       "      <td>37.8136</td>\n",
       "      <td>144.9631</td>\n",
       "      <td>Victoria</td>\n",
       "      <td>5078193</td>\n",
       "      <td>(37.8136, 144.9631)</td>\n",
       "      <td>1388</td>\n",
       "      <td>2641</td>\n",
       "      <td>1592</td>\n",
       "      <td>815</td>\n",
       "      <td>674</td>\n",
       "      <td>149</td>\n",
       "      <td>882</td>\n",
       "    </tr>\n",
       "    <tr>\n",
       "      <th>2</th>\n",
       "      <td>Brisbane</td>\n",
       "      <td>27.4678</td>\n",
       "      <td>153.0281</td>\n",
       "      <td>Queensland</td>\n",
       "      <td>2514184</td>\n",
       "      <td>(27.4678, 153.0281)</td>\n",
       "      <td>139</td>\n",
       "      <td>3577</td>\n",
       "      <td>424</td>\n",
       "      <td>581</td>\n",
       "      <td>715</td>\n",
       "      <td>1339</td>\n",
       "      <td>1570</td>\n",
       "    </tr>\n",
       "    <tr>\n",
       "      <th>3</th>\n",
       "      <td>Perth</td>\n",
       "      <td>31.9522</td>\n",
       "      <td>115.8589</td>\n",
       "      <td>Western Australia</td>\n",
       "      <td>2059484</td>\n",
       "      <td>(31.9522, 115.8589)</td>\n",
       "      <td>3520</td>\n",
       "      <td>159</td>\n",
       "      <td>3496</td>\n",
       "      <td>3291</td>\n",
       "      <td>3187</td>\n",
       "      <td>2867</td>\n",
       "      <td>2058</td>\n",
       "    </tr>\n",
       "    <tr>\n",
       "      <th>4</th>\n",
       "      <td>Adelaide</td>\n",
       "      <td>34.9289</td>\n",
       "      <td>138.6011</td>\n",
       "      <td>South Australia</td>\n",
       "      <td>1345777</td>\n",
       "      <td>(34.9289, 138.6011)</td>\n",
       "      <td>1555</td>\n",
       "      <td>2069</td>\n",
       "      <td>1652</td>\n",
       "      <td>1180</td>\n",
       "      <td>1065</td>\n",
       "      <td>801</td>\n",
       "      <td>282</td>\n",
       "    </tr>\n",
       "  </tbody>\n",
       "</table>\n",
       "</div>"
      ],
      "text/plain": [
       "        city      lat       lng              state  population  \\\n",
       "0     Sydney  33.8650  151.2094    New South Wales     5312163   \n",
       "1  Melbourne  37.8136  144.9631           Victoria     5078193   \n",
       "2   Brisbane  27.4678  153.0281         Queensland     2514184   \n",
       "3      Perth  31.9522  115.8589  Western Australia     2059484   \n",
       "4   Adelaide  34.9289  138.6011    South Australia     1345777   \n",
       "\n",
       "            latlng_tup  Tarong  Collie  Callide  Liddel  MtPiper  LoyYang  \\\n",
       "0   (33.865, 151.2094)     791    3231     1061     166      124      639   \n",
       "1  (37.8136, 144.9631)    1388    2641     1592     815      674      149   \n",
       "2  (27.4678, 153.0281)     139    3577      424     581      715     1339   \n",
       "3  (31.9522, 115.8589)    3520     159     3496    3291     3187     2867   \n",
       "4  (34.9289, 138.6011)    1555    2069     1652    1180     1065      801   \n",
       "\n",
       "   PortAugusta  \n",
       "0         1259  \n",
       "1          882  \n",
       "2         1570  \n",
       "3         2058  \n",
       "4          282  "
      ]
     },
     "execution_count": 46,
     "metadata": {},
     "output_type": "execute_result"
    }
   ],
   "source": [
    "#we now have a dataframe with all the City distance from each nuclear site.\n",
    "df.head()"
   ]
  }
 ],
 "metadata": {
  "kernelspec": {
   "display_name": "Python 3 (ipykernel)",
   "language": "python",
   "name": "python3"
  },
  "language_info": {
   "codemirror_mode": {
    "name": "ipython",
    "version": 3
   },
   "file_extension": ".py",
   "mimetype": "text/x-python",
   "name": "python",
   "nbconvert_exporter": "python",
   "pygments_lexer": "ipython3",
   "version": "3.12.7"
  }
 },
 "nbformat": 4,
 "nbformat_minor": 5
}
